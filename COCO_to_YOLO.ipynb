{
 "cells": [
  {
   "cell_type": "markdown",
   "metadata": {},
   "source": [
    "### Code for converting from Coco annotation (json) to yolo format (txt).\n",
    "##### I used it to convert this dataset https://github.com/up2metric/tomatOD to yolo format.\n",
    "##### I edit this code from https://github.com/kozolex/COCO_to_YOLO .\n"
   ]
  },
  {
   "cell_type": "code",
   "execution_count": null,
   "metadata": {},
   "outputs": [],
   "source": [
    "import os\n",
    "import json\n",
    "from PIL import Image"
   ]
  },
  {
   "cell_type": "markdown",
   "metadata": {},
   "source": [
    "##### Put both json file and images in one directory "
   ]
  },
  {
   "cell_type": "code",
   "execution_count": null,
   "metadata": {},
   "outputs": [],
   "source": [
    "# Directory for imgs\n",
    "DIR_IMG_PREFIX = r\"C:\\Users\\Abdallah\\Desktop\\test\\\\\"\n",
    "# Directory for json file\n",
    "ADNOTATION_PREFIX = r\"C:\\Users\\Abdallah\\Desktop\\test\\\\\"\n",
    "# Directory for outputs\n",
    "DIR_OUTPUT_PREFIX = r\"C:\\Users\\Abdallah\\Desktop\\test\\\\\"\n",
    "\n",
    "if not os.path.exists(DIR_OUTPUT_PREFIX):\n",
    "    os.makedirs(DIR_OUTPUT_PREFIX)"
   ]
  },
  {
   "cell_type": "code",
   "execution_count": null,
   "metadata": {},
   "outputs": [],
   "source": [
    "# json file\n",
    "with open(ADNOTATION_PREFIX + \"\\\\tomatOD_test.json\") as f:\n",
    "    data_adnotation = json.load(f)\n",
    "print(json.dumps(data_adnotation, indent = 4, sort_keys=True))"
   ]
  },
  {
   "cell_type": "markdown",
   "metadata": {},
   "source": [
    "# Checks"
   ]
  },
  {
   "cell_type": "code",
   "execution_count": null,
   "metadata": {},
   "outputs": [],
   "source": [
    "print(data_adnotation[\"images\"][1])"
   ]
  },
  {
   "cell_type": "code",
   "execution_count": null,
   "metadata": {},
   "outputs": [],
   "source": [
    "data_adnotation[\"images\"][1].keys()"
   ]
  },
  {
   "cell_type": "code",
   "execution_count": null,
   "metadata": {},
   "outputs": [],
   "source": [
    "os.listdir(DIR_IMG_PREFIX)"
   ]
  },
  {
   "cell_type": "code",
   "execution_count": null,
   "metadata": {},
   "outputs": [],
   "source": [
    "data_adnotation[\"images\"][1].items()"
   ]
  },
  {
   "cell_type": "code",
   "execution_count": null,
   "metadata": {},
   "outputs": [],
   "source": [
    "# n no of images\n",
    "n=len(data_adnotation[\"images\"])\n",
    "# m no of annotations \n",
    "m=len(data_adnotation[\"annotations\"])"
   ]
  },
  {
   "cell_type": "code",
   "execution_count": null,
   "metadata": {},
   "outputs": [],
   "source": [
    "for data_files in range(n):    \n",
    "    print('filename: {}'.format(data_adnotation[\"images\"][data_files][\"file_name\"]))\n",
    "    print('id: {}'.format(data_adnotation[\"images\"][data_files][\"id\"]))\n",
    "    print('h: {}'.format(data_adnotation[\"images\"][data_files][\"height\"]))\n",
    "    print('w: {}'.format(data_adnotation[\"images\"][data_files][\"width\"])) \n",
    "# m no of annotations     \n",
    "for annotations in range(m):\n",
    "    print('image_id: {}'.format(data_adnotation[\"annotations\"][annotations][\"image_id\"]))\n",
    "    print('category_id: {}'.format(data_adnotation[\"annotations\"][annotations][\"category_id\"]))\n",
    "    print('x: {}'.format(data_adnotation[\"annotations\"][annotations][\"bbox\"][0]))\n",
    "    print('y: {}'.format(data_adnotation[\"annotations\"][annotations][\"bbox\"][1]))\n",
    "    print('w: {}'.format(data_adnotation[\"annotations\"][annotations][\"bbox\"][2]))\n",
    "    print('h: {}'.format(data_adnotation[\"annotations\"][annotations][\"bbox\"][3]))    "
   ]
  },
  {
   "cell_type": "markdown",
   "metadata": {},
   "source": [
    "# Action"
   ]
  },
  {
   "cell_type": "code",
   "execution_count": null,
   "metadata": {},
   "outputs": [],
   "source": [
    "# n no of images\n",
    "n=len(data_adnotation[\"images\"])\n",
    "# m no of annotations \n",
    "m=len(data_adnotation[\"annotations\"])\n",
    "\n",
    "# n no of images\n",
    "for data_files in range(n):\n",
    "    img_filename = data_adnotation[\"images\"][data_files][\"file_name\"]\n",
    "    img = Image.open(DIR_IMG_PREFIX + str(img_filename))\n",
    "    size_x, size_y = img.size\n",
    "    print('filename: {} resolution(x,y): {},{}'.format(img_filename, size_x, size_y))\n",
    "    with open(DIR_OUTPUT_PREFIX + os.path.splitext(img_filename)[0] + '.txt', \"w\") as text_file:\n",
    "# m no of annotations      \n",
    "        for annotations in range(m):\n",
    "            if data_adnotation[\"images\"][data_files][\"id\"]==data_adnotation[\"annotations\"][annotations][\"image_id\"]:\n",
    "                x = data_adnotation[\"annotations\"][annotations][\"bbox\"][0]\n",
    "                y = data_adnotation[\"annotations\"][annotations][\"bbox\"][1]\n",
    "                width = data_adnotation[\"annotations\"][annotations][\"bbox\"][2]            \n",
    "                height = data_adnotation[\"annotations\"][annotations][\"bbox\"][3]\n",
    "                x_center = x + int(width/2)\n",
    "                y_center = y + int(height/2)\n",
    "                norm_x = x_center/size_x\n",
    "                norm_y = y_center/size_y\n",
    "                norm_width = width / size_x\n",
    "                norm_height = height / size_y\n",
    "                category_id=(data_adnotation[\"annotations\"][annotations][\"category_id\"])-1\n",
    "                print(category_id, norm_x, norm_y, norm_width, norm_height)\n",
    "                text_file.write('{} {} {} {} {}\\n'.format( category_id, norm_x, norm_y, norm_width, norm_height))\n",
    "                print()"
   ]
  }
 ],
 "metadata": {
  "kernelspec": {
   "display_name": "Python 3",
   "language": "python",
   "name": "python3"
  },
  "language_info": {
   "codemirror_mode": {
    "name": "ipython",
    "version": 3
   },
   "file_extension": ".py",
   "mimetype": "text/x-python",
   "name": "python",
   "nbconvert_exporter": "python",
   "pygments_lexer": "ipython3",
   "version": "3.8.5"
  }
 },
 "nbformat": 4,
 "nbformat_minor": 4
}
